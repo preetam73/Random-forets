{
 "cells": [
  {
   "cell_type": "code",
   "execution_count": 1,
   "id": "5ec914da",
   "metadata": {},
   "outputs": [],
   "source": [
    "import pandas as pd\n",
    "import numpy as np\n",
    "import matplotlib.pyplot as plt\n",
    "import seaborn as sns"
   ]
  },
  {
   "cell_type": "code",
   "execution_count": 11,
   "id": "9f4566aa",
   "metadata": {},
   "outputs": [
    {
     "data": {
      "text/html": [
       "<div>\n",
       "<style scoped>\n",
       "    .dataframe tbody tr th:only-of-type {\n",
       "        vertical-align: middle;\n",
       "    }\n",
       "\n",
       "    .dataframe tbody tr th {\n",
       "        vertical-align: top;\n",
       "    }\n",
       "\n",
       "    .dataframe thead th {\n",
       "        text-align: right;\n",
       "    }\n",
       "</style>\n",
       "<table border=\"1\" class=\"dataframe\">\n",
       "  <thead>\n",
       "    <tr style=\"text-align: right;\">\n",
       "      <th></th>\n",
       "      <th>Undergrad</th>\n",
       "      <th>Marital.Status</th>\n",
       "      <th>Taxable.Income</th>\n",
       "      <th>City.Population</th>\n",
       "      <th>Work.Experience</th>\n",
       "      <th>Urban</th>\n",
       "    </tr>\n",
       "  </thead>\n",
       "  <tbody>\n",
       "    <tr>\n",
       "      <th>0</th>\n",
       "      <td>NO</td>\n",
       "      <td>Single</td>\n",
       "      <td>68833</td>\n",
       "      <td>50047</td>\n",
       "      <td>10</td>\n",
       "      <td>YES</td>\n",
       "    </tr>\n",
       "    <tr>\n",
       "      <th>1</th>\n",
       "      <td>YES</td>\n",
       "      <td>Divorced</td>\n",
       "      <td>33700</td>\n",
       "      <td>134075</td>\n",
       "      <td>18</td>\n",
       "      <td>YES</td>\n",
       "    </tr>\n",
       "    <tr>\n",
       "      <th>2</th>\n",
       "      <td>NO</td>\n",
       "      <td>Married</td>\n",
       "      <td>36925</td>\n",
       "      <td>160205</td>\n",
       "      <td>30</td>\n",
       "      <td>YES</td>\n",
       "    </tr>\n",
       "    <tr>\n",
       "      <th>3</th>\n",
       "      <td>YES</td>\n",
       "      <td>Single</td>\n",
       "      <td>50190</td>\n",
       "      <td>193264</td>\n",
       "      <td>15</td>\n",
       "      <td>YES</td>\n",
       "    </tr>\n",
       "    <tr>\n",
       "      <th>4</th>\n",
       "      <td>NO</td>\n",
       "      <td>Married</td>\n",
       "      <td>81002</td>\n",
       "      <td>27533</td>\n",
       "      <td>28</td>\n",
       "      <td>NO</td>\n",
       "    </tr>\n",
       "    <tr>\n",
       "      <th>...</th>\n",
       "      <td>...</td>\n",
       "      <td>...</td>\n",
       "      <td>...</td>\n",
       "      <td>...</td>\n",
       "      <td>...</td>\n",
       "      <td>...</td>\n",
       "    </tr>\n",
       "    <tr>\n",
       "      <th>595</th>\n",
       "      <td>YES</td>\n",
       "      <td>Divorced</td>\n",
       "      <td>76340</td>\n",
       "      <td>39492</td>\n",
       "      <td>7</td>\n",
       "      <td>YES</td>\n",
       "    </tr>\n",
       "    <tr>\n",
       "      <th>596</th>\n",
       "      <td>YES</td>\n",
       "      <td>Divorced</td>\n",
       "      <td>69967</td>\n",
       "      <td>55369</td>\n",
       "      <td>2</td>\n",
       "      <td>YES</td>\n",
       "    </tr>\n",
       "    <tr>\n",
       "      <th>597</th>\n",
       "      <td>NO</td>\n",
       "      <td>Divorced</td>\n",
       "      <td>47334</td>\n",
       "      <td>154058</td>\n",
       "      <td>0</td>\n",
       "      <td>YES</td>\n",
       "    </tr>\n",
       "    <tr>\n",
       "      <th>598</th>\n",
       "      <td>YES</td>\n",
       "      <td>Married</td>\n",
       "      <td>98592</td>\n",
       "      <td>180083</td>\n",
       "      <td>17</td>\n",
       "      <td>NO</td>\n",
       "    </tr>\n",
       "    <tr>\n",
       "      <th>599</th>\n",
       "      <td>NO</td>\n",
       "      <td>Divorced</td>\n",
       "      <td>96519</td>\n",
       "      <td>158137</td>\n",
       "      <td>16</td>\n",
       "      <td>NO</td>\n",
       "    </tr>\n",
       "  </tbody>\n",
       "</table>\n",
       "<p>600 rows × 6 columns</p>\n",
       "</div>"
      ],
      "text/plain": [
       "    Undergrad Marital.Status  Taxable.Income  City.Population  \\\n",
       "0          NO         Single           68833            50047   \n",
       "1         YES       Divorced           33700           134075   \n",
       "2          NO        Married           36925           160205   \n",
       "3         YES         Single           50190           193264   \n",
       "4          NO        Married           81002            27533   \n",
       "..        ...            ...             ...              ...   \n",
       "595       YES       Divorced           76340            39492   \n",
       "596       YES       Divorced           69967            55369   \n",
       "597        NO       Divorced           47334           154058   \n",
       "598       YES        Married           98592           180083   \n",
       "599        NO       Divorced           96519           158137   \n",
       "\n",
       "     Work.Experience Urban  \n",
       "0                 10   YES  \n",
       "1                 18   YES  \n",
       "2                 30   YES  \n",
       "3                 15   YES  \n",
       "4                 28    NO  \n",
       "..               ...   ...  \n",
       "595                7   YES  \n",
       "596                2   YES  \n",
       "597                0   YES  \n",
       "598               17    NO  \n",
       "599               16    NO  \n",
       "\n",
       "[600 rows x 6 columns]"
      ]
     },
     "execution_count": 11,
     "metadata": {},
     "output_type": "execute_result"
    }
   ],
   "source": [
    "fraud = pd.read_csv('Fraud_check.csv')\n",
    "fraud"
   ]
  },
  {
   "cell_type": "code",
   "execution_count": 12,
   "id": "960ddfdb",
   "metadata": {},
   "outputs": [
    {
     "data": {
      "text/plain": [
       "Undergrad          object\n",
       "Marital.Status     object\n",
       "Taxable.Income      int64\n",
       "City.Population     int64\n",
       "Work.Experience     int64\n",
       "Urban              object\n",
       "dtype: object"
      ]
     },
     "execution_count": 12,
     "metadata": {},
     "output_type": "execute_result"
    }
   ],
   "source": [
    "fraud.dtypes"
   ]
  },
  {
   "cell_type": "code",
   "execution_count": 13,
   "id": "032b4970",
   "metadata": {},
   "outputs": [
    {
     "name": "stdout",
     "output_type": "stream",
     "text": [
      "<class 'pandas.core.frame.DataFrame'>\n",
      "RangeIndex: 600 entries, 0 to 599\n",
      "Data columns (total 6 columns):\n",
      " #   Column           Non-Null Count  Dtype \n",
      "---  ------           --------------  ----- \n",
      " 0   Undergrad        600 non-null    object\n",
      " 1   Marital.Status   600 non-null    object\n",
      " 2   Taxable.Income   600 non-null    int64 \n",
      " 3   City.Population  600 non-null    int64 \n",
      " 4   Work.Experience  600 non-null    int64 \n",
      " 5   Urban            600 non-null    object\n",
      "dtypes: int64(3), object(3)\n",
      "memory usage: 28.2+ KB\n"
     ]
    }
   ],
   "source": [
    "fraud.info()"
   ]
  },
  {
   "cell_type": "code",
   "execution_count": 15,
   "id": "c45f47d9",
   "metadata": {},
   "outputs": [
    {
     "data": {
      "text/html": [
       "<div>\n",
       "<style scoped>\n",
       "    .dataframe tbody tr th:only-of-type {\n",
       "        vertical-align: middle;\n",
       "    }\n",
       "\n",
       "    .dataframe tbody tr th {\n",
       "        vertical-align: top;\n",
       "    }\n",
       "\n",
       "    .dataframe thead th {\n",
       "        text-align: right;\n",
       "    }\n",
       "</style>\n",
       "<table border=\"1\" class=\"dataframe\">\n",
       "  <thead>\n",
       "    <tr style=\"text-align: right;\">\n",
       "      <th></th>\n",
       "      <th>Taxable.Income</th>\n",
       "      <th>City.Population</th>\n",
       "      <th>Work.Experience</th>\n",
       "    </tr>\n",
       "  </thead>\n",
       "  <tbody>\n",
       "    <tr>\n",
       "      <th>count</th>\n",
       "      <td>600.000000</td>\n",
       "      <td>600.000000</td>\n",
       "      <td>600.000000</td>\n",
       "    </tr>\n",
       "    <tr>\n",
       "      <th>mean</th>\n",
       "      <td>55208.375000</td>\n",
       "      <td>108747.368333</td>\n",
       "      <td>15.558333</td>\n",
       "    </tr>\n",
       "    <tr>\n",
       "      <th>std</th>\n",
       "      <td>26204.827597</td>\n",
       "      <td>49850.075134</td>\n",
       "      <td>8.842147</td>\n",
       "    </tr>\n",
       "    <tr>\n",
       "      <th>min</th>\n",
       "      <td>10003.000000</td>\n",
       "      <td>25779.000000</td>\n",
       "      <td>0.000000</td>\n",
       "    </tr>\n",
       "    <tr>\n",
       "      <th>25%</th>\n",
       "      <td>32871.500000</td>\n",
       "      <td>66966.750000</td>\n",
       "      <td>8.000000</td>\n",
       "    </tr>\n",
       "    <tr>\n",
       "      <th>50%</th>\n",
       "      <td>55074.500000</td>\n",
       "      <td>106493.500000</td>\n",
       "      <td>15.000000</td>\n",
       "    </tr>\n",
       "    <tr>\n",
       "      <th>75%</th>\n",
       "      <td>78611.750000</td>\n",
       "      <td>150114.250000</td>\n",
       "      <td>24.000000</td>\n",
       "    </tr>\n",
       "    <tr>\n",
       "      <th>max</th>\n",
       "      <td>99619.000000</td>\n",
       "      <td>199778.000000</td>\n",
       "      <td>30.000000</td>\n",
       "    </tr>\n",
       "  </tbody>\n",
       "</table>\n",
       "</div>"
      ],
      "text/plain": [
       "       Taxable.Income  City.Population  Work.Experience\n",
       "count      600.000000       600.000000       600.000000\n",
       "mean     55208.375000    108747.368333        15.558333\n",
       "std      26204.827597     49850.075134         8.842147\n",
       "min      10003.000000     25779.000000         0.000000\n",
       "25%      32871.500000     66966.750000         8.000000\n",
       "50%      55074.500000    106493.500000        15.000000\n",
       "75%      78611.750000    150114.250000        24.000000\n",
       "max      99619.000000    199778.000000        30.000000"
      ]
     },
     "execution_count": 15,
     "metadata": {},
     "output_type": "execute_result"
    }
   ],
   "source": [
    "fraud.describe()"
   ]
  },
  {
   "cell_type": "code",
   "execution_count": 16,
   "id": "8860acb5",
   "metadata": {},
   "outputs": [
    {
     "data": {
      "text/plain": [
       "Index(['Undergrad', 'Marital.Status', 'Taxable.Income', 'City.Population',\n",
       "       'Work.Experience', 'Urban'],\n",
       "      dtype='object')"
      ]
     },
     "execution_count": 16,
     "metadata": {},
     "output_type": "execute_result"
    }
   ],
   "source": [
    "fraud.columns"
   ]
  },
  {
   "cell_type": "code",
   "execution_count": 19,
   "id": "e7faa534",
   "metadata": {},
   "outputs": [
    {
     "data": {
      "text/plain": [
       "Undergrad          0\n",
       "Marital.Status     0\n",
       "Taxable.Income     0\n",
       "City.Population    0\n",
       "Work.Experience    0\n",
       "Urban              0\n",
       "dtype: int64"
      ]
     },
     "execution_count": 19,
     "metadata": {},
     "output_type": "execute_result"
    }
   ],
   "source": [
    "fraud.isnull().sum()"
   ]
  },
  {
   "cell_type": "code",
   "execution_count": 24,
   "id": "7c586b7f",
   "metadata": {},
   "outputs": [
    {
     "data": {
      "text/plain": [
       "0      Good\n",
       "1      Good\n",
       "2      Good\n",
       "3      Good\n",
       "4      Good\n",
       "       ... \n",
       "595    Good\n",
       "596    Good\n",
       "597    Good\n",
       "598    Good\n",
       "599    Good\n",
       "Name: TaxInc, Length: 600, dtype: category\n",
       "Categories (2, object): ['Risky' < 'Good']"
      ]
     },
     "execution_count": 24,
     "metadata": {},
     "output_type": "execute_result"
    }
   ],
   "source": [
    "fraud[\"TaxInc\"] = pd.cut(fraud[\"Taxable.Income\"], bins = [10002,30000,99620], labels = [\"Risky\", \"Good\"])\n",
    "fraud[\"TaxInc\"]"
   ]
  },
  {
   "cell_type": "code",
   "execution_count": 30,
   "id": "fa49fb4a",
   "metadata": {},
   "outputs": [
    {
     "data": {
      "text/html": [
       "<div>\n",
       "<style scoped>\n",
       "    .dataframe tbody tr th:only-of-type {\n",
       "        vertical-align: middle;\n",
       "    }\n",
       "\n",
       "    .dataframe tbody tr th {\n",
       "        vertical-align: top;\n",
       "    }\n",
       "\n",
       "    .dataframe thead th {\n",
       "        text-align: right;\n",
       "    }\n",
       "</style>\n",
       "<table border=\"1\" class=\"dataframe\">\n",
       "  <thead>\n",
       "    <tr style=\"text-align: right;\">\n",
       "      <th></th>\n",
       "      <th>Undergrad</th>\n",
       "      <th>Marital.Status</th>\n",
       "      <th>City.Population</th>\n",
       "      <th>Work.Experience</th>\n",
       "      <th>Urban</th>\n",
       "      <th>TaxInc</th>\n",
       "    </tr>\n",
       "  </thead>\n",
       "  <tbody>\n",
       "    <tr>\n",
       "      <th>0</th>\n",
       "      <td>NO</td>\n",
       "      <td>Single</td>\n",
       "      <td>50047</td>\n",
       "      <td>10</td>\n",
       "      <td>YES</td>\n",
       "      <td>Good</td>\n",
       "    </tr>\n",
       "    <tr>\n",
       "      <th>1</th>\n",
       "      <td>YES</td>\n",
       "      <td>Divorced</td>\n",
       "      <td>134075</td>\n",
       "      <td>18</td>\n",
       "      <td>YES</td>\n",
       "      <td>Good</td>\n",
       "    </tr>\n",
       "    <tr>\n",
       "      <th>2</th>\n",
       "      <td>NO</td>\n",
       "      <td>Married</td>\n",
       "      <td>160205</td>\n",
       "      <td>30</td>\n",
       "      <td>YES</td>\n",
       "      <td>Good</td>\n",
       "    </tr>\n",
       "    <tr>\n",
       "      <th>3</th>\n",
       "      <td>YES</td>\n",
       "      <td>Single</td>\n",
       "      <td>193264</td>\n",
       "      <td>15</td>\n",
       "      <td>YES</td>\n",
       "      <td>Good</td>\n",
       "    </tr>\n",
       "    <tr>\n",
       "      <th>4</th>\n",
       "      <td>NO</td>\n",
       "      <td>Married</td>\n",
       "      <td>27533</td>\n",
       "      <td>28</td>\n",
       "      <td>NO</td>\n",
       "      <td>Good</td>\n",
       "    </tr>\n",
       "    <tr>\n",
       "      <th>...</th>\n",
       "      <td>...</td>\n",
       "      <td>...</td>\n",
       "      <td>...</td>\n",
       "      <td>...</td>\n",
       "      <td>...</td>\n",
       "      <td>...</td>\n",
       "    </tr>\n",
       "    <tr>\n",
       "      <th>595</th>\n",
       "      <td>YES</td>\n",
       "      <td>Divorced</td>\n",
       "      <td>39492</td>\n",
       "      <td>7</td>\n",
       "      <td>YES</td>\n",
       "      <td>Good</td>\n",
       "    </tr>\n",
       "    <tr>\n",
       "      <th>596</th>\n",
       "      <td>YES</td>\n",
       "      <td>Divorced</td>\n",
       "      <td>55369</td>\n",
       "      <td>2</td>\n",
       "      <td>YES</td>\n",
       "      <td>Good</td>\n",
       "    </tr>\n",
       "    <tr>\n",
       "      <th>597</th>\n",
       "      <td>NO</td>\n",
       "      <td>Divorced</td>\n",
       "      <td>154058</td>\n",
       "      <td>0</td>\n",
       "      <td>YES</td>\n",
       "      <td>Good</td>\n",
       "    </tr>\n",
       "    <tr>\n",
       "      <th>598</th>\n",
       "      <td>YES</td>\n",
       "      <td>Married</td>\n",
       "      <td>180083</td>\n",
       "      <td>17</td>\n",
       "      <td>NO</td>\n",
       "      <td>Good</td>\n",
       "    </tr>\n",
       "    <tr>\n",
       "      <th>599</th>\n",
       "      <td>NO</td>\n",
       "      <td>Divorced</td>\n",
       "      <td>158137</td>\n",
       "      <td>16</td>\n",
       "      <td>NO</td>\n",
       "      <td>Good</td>\n",
       "    </tr>\n",
       "  </tbody>\n",
       "</table>\n",
       "<p>600 rows × 6 columns</p>\n",
       "</div>"
      ],
      "text/plain": [
       "    Undergrad Marital.Status  City.Population  Work.Experience Urban TaxInc\n",
       "0          NO         Single            50047               10   YES   Good\n",
       "1         YES       Divorced           134075               18   YES   Good\n",
       "2          NO        Married           160205               30   YES   Good\n",
       "3         YES         Single           193264               15   YES   Good\n",
       "4          NO        Married            27533               28    NO   Good\n",
       "..        ...            ...              ...              ...   ...    ...\n",
       "595       YES       Divorced            39492                7   YES   Good\n",
       "596       YES       Divorced            55369                2   YES   Good\n",
       "597        NO       Divorced           154058                0   YES   Good\n",
       "598       YES        Married           180083               17    NO   Good\n",
       "599        NO       Divorced           158137               16    NO   Good\n",
       "\n",
       "[600 rows x 6 columns]"
      ]
     },
     "execution_count": 30,
     "metadata": {},
     "output_type": "execute_result"
    }
   ],
   "source": [
    "fraud_check = fraud.drop(columns=[\"Taxable.Income\"])\n",
    "fraud_check "
   ]
  },
  {
   "cell_type": "code",
   "execution_count": 41,
   "id": "e18b21cb",
   "metadata": {},
   "outputs": [],
   "source": [
    "FC = pd.get_dummies(fraud_check .drop(columns = [\"TaxInc\"]))"
   ]
  },
  {
   "cell_type": "code",
   "execution_count": 47,
   "id": "fe8b0638",
   "metadata": {},
   "outputs": [],
   "source": [
    "Fraud_final = pd.concat([FC,fraud_check [\"TaxInc\"]], axis = 1)\n"
   ]
  },
  {
   "cell_type": "code",
   "execution_count": 50,
   "id": "4d0a3a7c",
   "metadata": {},
   "outputs": [
    {
     "data": {
      "text/plain": [
       "['City.Population',\n",
       " 'Work.Experience',\n",
       " 'Undergrad_NO',\n",
       " 'Undergrad_YES',\n",
       " 'Marital.Status_Divorced',\n",
       " 'Marital.Status_Married',\n",
       " 'Marital.Status_Single',\n",
       " 'Urban_NO',\n",
       " 'Urban_YES',\n",
       " 'TaxInc']"
      ]
     },
     "execution_count": 50,
     "metadata": {},
     "output_type": "execute_result"
    }
   ],
   "source": [
    "col = list(Fraud_final.columns)\n",
    "col"
   ]
  },
  {
   "cell_type": "code",
   "execution_count": 58,
   "id": "8e82834d",
   "metadata": {},
   "outputs": [
    {
     "data": {
      "text/plain": [
       "['City.Population',\n",
       " 'Work.Experience',\n",
       " 'Undergrad_NO',\n",
       " 'Undergrad_YES',\n",
       " 'Marital.Status_Divorced',\n",
       " 'Marital.Status_Married',\n",
       " 'Marital.Status_Single',\n",
       " 'Urban_NO',\n",
       " 'Urban_YES']"
      ]
     },
     "execution_count": 58,
     "metadata": {},
     "output_type": "execute_result"
    }
   ],
   "source": [
    "predictors = col[:9]\n",
    "predictors"
   ]
  },
  {
   "cell_type": "code",
   "execution_count": 60,
   "id": "8753bf90",
   "metadata": {},
   "outputs": [
    {
     "data": {
      "text/plain": [
       "'TaxInc'"
      ]
     },
     "execution_count": 60,
     "metadata": {},
     "output_type": "execute_result"
    }
   ],
   "source": [
    "target = col[9]\n",
    "target"
   ]
  },
  {
   "cell_type": "code",
   "execution_count": 70,
   "id": "347a4fe2",
   "metadata": {},
   "outputs": [
    {
     "data": {
      "text/plain": [
       "(600, 9)"
      ]
     },
     "execution_count": 70,
     "metadata": {},
     "output_type": "execute_result"
    }
   ],
   "source": [
    "X = Fraud_final[predictors]\n",
    "X.shape"
   ]
  },
  {
   "cell_type": "code",
   "execution_count": 74,
   "id": "ab791d7b",
   "metadata": {},
   "outputs": [
    {
     "data": {
      "text/plain": [
       "0      Good\n",
       "1      Good\n",
       "2      Good\n",
       "3      Good\n",
       "4      Good\n",
       "       ... \n",
       "595    Good\n",
       "596    Good\n",
       "597    Good\n",
       "598    Good\n",
       "599    Good\n",
       "Name: TaxInc, Length: 600, dtype: category\n",
       "Categories (2, object): ['Risky' < 'Good']"
      ]
     },
     "execution_count": 74,
     "metadata": {},
     "output_type": "execute_result"
    }
   ],
   "source": [
    "Y = Fraud_final[target]\n",
    "Y"
   ]
  },
  {
   "cell_type": "code",
   "execution_count": 77,
   "id": "877d6405",
   "metadata": {},
   "outputs": [
    {
     "data": {
      "text/plain": [
       "<seaborn.axisgrid.PairGrid at 0x1ed9069cf10>"
      ]
     },
     "execution_count": 77,
     "metadata": {},
     "output_type": "execute_result"
    },
    {
     "data": {
      "image/png": "[encoded data removed]",
      "text/plain": [
       "<Figure size 540x540 with 12 Axes>"
      ]
     },
     "metadata": {
      "needs_background": "light"
     },
     "output_type": "display_data"
    }
   ],
   "source": [
    "sns.pairplot(fraud)"
   ]
  },
  {
   "cell_type": "code",
   "execution_count": 83,
   "id": "f56a751a",
   "metadata": {},
   "outputs": [
    {
     "name": "stderr",
     "output_type": "stream",
     "text": [
      "C:\\Users\\Gpree\\anaconda3\\lib\\site-packages\\seaborn\\_decorators.py:36: FutureWarning: Pass the following variables as keyword args: x, y. From version 0.12, the only valid positional argument will be `data`, and passing other arguments without an explicit keyword will result in an error or misinterpretation.\n",
      "  warnings.warn(\n"
     ]
    },
    {
     "data": {
      "text/plain": [
       "<AxesSubplot:xlabel='Taxable.Income', ylabel='City.Population'>"
      ]
     },
     "execution_count": 83,
     "metadata": {},
     "output_type": "execute_result"
    },
    {
     "data": {
      "image/png": "[encoded data removed]",
      "text/plain": [
       "<Figure size 432x288 with 1 Axes>"
      ]
     },
     "metadata": {
      "needs_background": "light"
     },
     "output_type": "display_data"
    }
   ],
   "source": [
    "sns.barplot(fraud['Taxable.Income'], fraud['City.Population'])\n"
   ]
  },
  {
   "cell_type": "code",
   "execution_count": 90,
   "id": "f8bd6e54",
   "metadata": {},
   "outputs": [
    {
     "name": "stderr",
     "output_type": "stream",
     "text": [
      "C:\\Users\\Gpree\\anaconda3\\lib\\site-packages\\seaborn\\_decorators.py:36: FutureWarning: Pass the following variables as keyword args: x, y. From version 0.12, the only valid positional argument will be `data`, and passing other arguments without an explicit keyword will result in an error or misinterpretation.\n",
      "  warnings.warn(\n"
     ]
    },
    {
     "data": {
      "text/plain": [
       "<AxesSubplot:xlabel='Taxable.Income', ylabel='City.Population'>"
      ]
     },
     "execution_count": 90,
     "metadata": {},
     "output_type": "execute_result"
    },
    {
     "data": {
      "image/png": "[encoded data removed]",
      "text/plain": [
       "<Figure size 432x288 with 1 Axes>"
      ]
     },
     "metadata": {
      "needs_background": "light"
     },
     "output_type": "display_data"
    }
   ],
   "source": [
    "sns.boxplot(fraud['Taxable.Income'], fraud['City.Population'])"
   ]
  },
  {
   "cell_type": "code",
   "execution_count": 100,
   "id": "7d1c153d",
   "metadata": {},
   "outputs": [
    {
     "name": "stderr",
     "output_type": "stream",
     "text": [
      "C:\\Users\\Gpree\\anaconda3\\lib\\site-packages\\seaborn\\_decorators.py:36: FutureWarning: Pass the following variables as keyword args: x, y. From version 0.12, the only valid positional argument will be `data`, and passing other arguments without an explicit keyword will result in an error or misinterpretation.\n",
      "  warnings.warn(\n"
     ]
    },
    {
     "data": {
      "text/plain": [
       "<seaborn.axisgrid.JointGrid at 0x1edbd38eb80>"
      ]
     },
     "execution_count": 100,
     "metadata": {},
     "output_type": "execute_result"
    },
    {
     "data": {
      "image/png": "[encoded data removed]",
      "text/plain": [
       "<Figure size 432x432 with 3 Axes>"
      ]
     },
     "metadata": {
      "needs_background": "light"
     },
     "output_type": "display_data"
    }
   ],
   "source": [
    "sns.jointplot(fraud['Taxable.Income'], fraud['City.Population'])"
   ]
  },
  {
   "cell_type": "code",
   "execution_count": 108,
   "id": "8e8f8dcc",
   "metadata": {},
   "outputs": [
    {
     "name": "stderr",
     "output_type": "stream",
     "text": [
      "C:\\Users\\Gpree\\anaconda3\\lib\\site-packages\\seaborn\\_decorators.py:36: FutureWarning: Pass the following variables as keyword args: x, y. From version 0.12, the only valid positional argument will be `data`, and passing other arguments without an explicit keyword will result in an error or misinterpretation.\n",
      "  warnings.warn(\n"
     ]
    },
    {
     "data": {
      "text/plain": [
       "<AxesSubplot:xlabel='Taxable.Income', ylabel='City.Population'>"
      ]
     },
     "execution_count": 108,
     "metadata": {},
     "output_type": "execute_result"
    },
    {
     "data": {
      "image/png": "[encoded data removed]",
      "text/plain": [
       "<Figure size 432x288 with 1 Axes>"
      ]
     },
     "metadata": {
      "needs_background": "light"
     },
     "output_type": "display_data"
    }
   ],
   "source": [
    "sns.stripplot(fraud['Taxable.Income'], fraud['City.Population'])"
   ]
  },
  {
   "cell_type": "code",
   "execution_count": 118,
   "id": "838f721a",
   "metadata": {},
   "outputs": [
    {
     "name": "stderr",
     "output_type": "stream",
     "text": [
      "C:\\Users\\Gpree\\anaconda3\\lib\\site-packages\\seaborn\\distributions.py:2557: FutureWarning: `distplot` is a deprecated function and will be removed in a future version. Please adapt your code to use either `displot` (a figure-level function with similar flexibility) or `histplot` (an axes-level function for histograms).\n",
      "  warnings.warn(msg, FutureWarning)\n"
     ]
    },
    {
     "data": {
      "text/plain": [
       "<AxesSubplot:xlabel='Taxable.Income', ylabel='Density'>"
      ]
     },
     "execution_count": 118,
     "metadata": {},
     "output_type": "execute_result"
    },
    {
     "data": {
      "image/png": "[encoded data removed]",
      "text/plain": [
       "<Figure size 432x288 with 1 Axes>"
      ]
     },
     "metadata": {
      "needs_background": "light"
     },
     "output_type": "display_data"
    }
   ],
   "source": [
    "sns.distplot(fraud['Taxable.Income'])"
   ]
  },
  {
   "cell_type": "code",
   "execution_count": 128,
   "id": "d6452c37",
   "metadata": {},
   "outputs": [
    {
     "name": "stderr",
     "output_type": "stream",
     "text": [
      "C:\\Users\\Gpree\\anaconda3\\lib\\site-packages\\seaborn\\distributions.py:2557: FutureWarning: `distplot` is a deprecated function and will be removed in a future version. Please adapt your code to use either `displot` (a figure-level function with similar flexibility) or `histplot` (an axes-level function for histograms).\n",
      "  warnings.warn(msg, FutureWarning)\n"
     ]
    },
    {
     "data": {
      "text/plain": [
       "<AxesSubplot:xlabel='City.Population', ylabel='Density'>"
      ]
     },
     "execution_count": 128,
     "metadata": {},
     "output_type": "execute_result"
    },
    {
     "data": {
      "image/png": "[encoded data removed]",
      "text/plain": [
       "<Figure size 432x288 with 1 Axes>"
      ]
     },
     "metadata": {
      "needs_background": "light"
     },
     "output_type": "display_data"
    }
   ],
   "source": [
    "sns.distplot(fraud['City.Population'])"
   ]
  },
  {
   "cell_type": "code",
   "execution_count": null,
   "id": "d7bff270",
   "metadata": {},
   "outputs": [],
   "source": []
  },
  {
   "cell_type": "code",
   "execution_count": 129,
   "id": "12207188",
   "metadata": {},
   "outputs": [],
   "source": [
    "from sklearn.ensemble import RandomForestClassifier\n"
   ]
  },
  {
   "cell_type": "code",
   "execution_count": 138,
   "id": "bc0c8da4",
   "metadata": {},
   "outputs": [],
   "source": [
    "rf = RandomForestClassifier(n_jobs = 3, oob_score = True, n_estimators = 15, criterion = \"entropy\")"
   ]
  },
  {
   "cell_type": "code",
   "execution_count": 149,
   "id": "59289c91",
   "metadata": {},
   "outputs": [],
   "source": [
    "rf = RandomForestClassifier(n_jobs=3,oob_score=True,n_estimators=15,criterion=\"entropy\")"
   ]
  },
  {
   "cell_type": "code",
   "execution_count": 152,
   "id": "4e56f584",
   "metadata": {},
   "outputs": [
    {
     "data": {
      "text/plain": [
       "(600, 10)"
      ]
     },
     "execution_count": 152,
     "metadata": {},
     "output_type": "execute_result"
    }
   ],
   "source": [
    "np.shape(Fraud_final)  "
   ]
  },
  {
   "cell_type": "code",
   "execution_count": 158,
   "id": "a64cb55a",
   "metadata": {},
   "outputs": [
    {
     "data": {
      "text/html": [
       "<div>\n",
       "<style scoped>\n",
       "    .dataframe tbody tr th:only-of-type {\n",
       "        vertical-align: middle;\n",
       "    }\n",
       "\n",
       "    .dataframe tbody tr th {\n",
       "        vertical-align: top;\n",
       "    }\n",
       "\n",
       "    .dataframe thead th {\n",
       "        text-align: right;\n",
       "    }\n",
       "</style>\n",
       "<table border=\"1\" class=\"dataframe\">\n",
       "  <thead>\n",
       "    <tr style=\"text-align: right;\">\n",
       "      <th></th>\n",
       "      <th>City.Population</th>\n",
       "      <th>Work.Experience</th>\n",
       "      <th>Undergrad_NO</th>\n",
       "      <th>Undergrad_YES</th>\n",
       "      <th>Marital.Status_Divorced</th>\n",
       "      <th>Marital.Status_Married</th>\n",
       "      <th>Marital.Status_Single</th>\n",
       "      <th>Urban_NO</th>\n",
       "      <th>Urban_YES</th>\n",
       "    </tr>\n",
       "  </thead>\n",
       "  <tbody>\n",
       "    <tr>\n",
       "      <th>count</th>\n",
       "      <td>600.000000</td>\n",
       "      <td>600.000000</td>\n",
       "      <td>600.000000</td>\n",
       "      <td>600.000000</td>\n",
       "      <td>600.000000</td>\n",
       "      <td>600.000000</td>\n",
       "      <td>600.000000</td>\n",
       "      <td>600.000000</td>\n",
       "      <td>600.000000</td>\n",
       "    </tr>\n",
       "    <tr>\n",
       "      <th>mean</th>\n",
       "      <td>108747.368333</td>\n",
       "      <td>15.558333</td>\n",
       "      <td>0.480000</td>\n",
       "      <td>0.520000</td>\n",
       "      <td>0.315000</td>\n",
       "      <td>0.323333</td>\n",
       "      <td>0.361667</td>\n",
       "      <td>0.496667</td>\n",
       "      <td>0.503333</td>\n",
       "    </tr>\n",
       "    <tr>\n",
       "      <th>std</th>\n",
       "      <td>49850.075134</td>\n",
       "      <td>8.842147</td>\n",
       "      <td>0.500017</td>\n",
       "      <td>0.500017</td>\n",
       "      <td>0.464903</td>\n",
       "      <td>0.468139</td>\n",
       "      <td>0.480884</td>\n",
       "      <td>0.500406</td>\n",
       "      <td>0.500406</td>\n",
       "    </tr>\n",
       "    <tr>\n",
       "      <th>min</th>\n",
       "      <td>25779.000000</td>\n",
       "      <td>0.000000</td>\n",
       "      <td>0.000000</td>\n",
       "      <td>0.000000</td>\n",
       "      <td>0.000000</td>\n",
       "      <td>0.000000</td>\n",
       "      <td>0.000000</td>\n",
       "      <td>0.000000</td>\n",
       "      <td>0.000000</td>\n",
       "    </tr>\n",
       "    <tr>\n",
       "      <th>25%</th>\n",
       "      <td>66966.750000</td>\n",
       "      <td>8.000000</td>\n",
       "      <td>0.000000</td>\n",
       "      <td>0.000000</td>\n",
       "      <td>0.000000</td>\n",
       "      <td>0.000000</td>\n",
       "      <td>0.000000</td>\n",
       "      <td>0.000000</td>\n",
       "      <td>0.000000</td>\n",
       "    </tr>\n",
       "    <tr>\n",
       "      <th>50%</th>\n",
       "      <td>106493.500000</td>\n",
       "      <td>15.000000</td>\n",
       "      <td>0.000000</td>\n",
       "      <td>1.000000</td>\n",
       "      <td>0.000000</td>\n",
       "      <td>0.000000</td>\n",
       "      <td>0.000000</td>\n",
       "      <td>0.000000</td>\n",
       "      <td>1.000000</td>\n",
       "    </tr>\n",
       "    <tr>\n",
       "      <th>75%</th>\n",
       "      <td>150114.250000</td>\n",
       "      <td>24.000000</td>\n",
       "      <td>1.000000</td>\n",
       "      <td>1.000000</td>\n",
       "      <td>1.000000</td>\n",
       "      <td>1.000000</td>\n",
       "      <td>1.000000</td>\n",
       "      <td>1.000000</td>\n",
       "      <td>1.000000</td>\n",
       "    </tr>\n",
       "    <tr>\n",
       "      <th>max</th>\n",
       "      <td>199778.000000</td>\n",
       "      <td>30.000000</td>\n",
       "      <td>1.000000</td>\n",
       "      <td>1.000000</td>\n",
       "      <td>1.000000</td>\n",
       "      <td>1.000000</td>\n",
       "      <td>1.000000</td>\n",
       "      <td>1.000000</td>\n",
       "      <td>1.000000</td>\n",
       "    </tr>\n",
       "  </tbody>\n",
       "</table>\n",
       "</div>"
      ],
      "text/plain": [
       "       City.Population  Work.Experience  Undergrad_NO  Undergrad_YES  \\\n",
       "count       600.000000       600.000000    600.000000     600.000000   \n",
       "mean     108747.368333        15.558333      0.480000       0.520000   \n",
       "std       49850.075134         8.842147      0.500017       0.500017   \n",
       "min       25779.000000         0.000000      0.000000       0.000000   \n",
       "25%       66966.750000         8.000000      0.000000       0.000000   \n",
       "50%      106493.500000        15.000000      0.000000       1.000000   \n",
       "75%      150114.250000        24.000000      1.000000       1.000000   \n",
       "max      199778.000000        30.000000      1.000000       1.000000   \n",
       "\n",
       "       Marital.Status_Divorced  Marital.Status_Married  Marital.Status_Single  \\\n",
       "count               600.000000              600.000000             600.000000   \n",
       "mean                  0.315000                0.323333               0.361667   \n",
       "std                   0.464903                0.468139               0.480884   \n",
       "min                   0.000000                0.000000               0.000000   \n",
       "25%                   0.000000                0.000000               0.000000   \n",
       "50%                   0.000000                0.000000               0.000000   \n",
       "75%                   1.000000                1.000000               1.000000   \n",
       "max                   1.000000                1.000000               1.000000   \n",
       "\n",
       "         Urban_NO   Urban_YES  \n",
       "count  600.000000  600.000000  \n",
       "mean     0.496667    0.503333  \n",
       "std      0.500406    0.500406  \n",
       "min      0.000000    0.000000  \n",
       "25%      0.000000    0.000000  \n",
       "50%      0.000000    1.000000  \n",
       "75%      1.000000    1.000000  \n",
       "max      1.000000    1.000000  "
      ]
     },
     "execution_count": 158,
     "metadata": {},
     "output_type": "execute_result"
    }
   ],
   "source": [
    "Fraud_final.describe()"
   ]
  },
  {
   "cell_type": "code",
   "execution_count": 159,
   "id": "cd1fd358",
   "metadata": {},
   "outputs": [
    {
     "data": {
      "text/html": [
       "<div>\n",
       "<style scoped>\n",
       "    .dataframe tbody tr th:only-of-type {\n",
       "        vertical-align: middle;\n",
       "    }\n",
       "\n",
       "    .dataframe tbody tr th {\n",
       "        vertical-align: top;\n",
       "    }\n",
       "\n",
       "    .dataframe thead th {\n",
       "        text-align: right;\n",
       "    }\n",
       "</style>\n",
       "<table border=\"1\" class=\"dataframe\">\n",
       "  <thead>\n",
       "    <tr style=\"text-align: right;\">\n",
       "      <th></th>\n",
       "      <th>City.Population</th>\n",
       "      <th>Work.Experience</th>\n",
       "      <th>Undergrad_NO</th>\n",
       "      <th>Undergrad_YES</th>\n",
       "      <th>Marital.Status_Divorced</th>\n",
       "      <th>Marital.Status_Married</th>\n",
       "      <th>Marital.Status_Single</th>\n",
       "      <th>Urban_NO</th>\n",
       "      <th>Urban_YES</th>\n",
       "    </tr>\n",
       "  </thead>\n",
       "  <tbody>\n",
       "    <tr>\n",
       "      <th>0</th>\n",
       "      <td>50047</td>\n",
       "      <td>10</td>\n",
       "      <td>1</td>\n",
       "      <td>0</td>\n",
       "      <td>0</td>\n",
       "      <td>0</td>\n",
       "      <td>1</td>\n",
       "      <td>0</td>\n",
       "      <td>1</td>\n",
       "    </tr>\n",
       "    <tr>\n",
       "      <th>1</th>\n",
       "      <td>134075</td>\n",
       "      <td>18</td>\n",
       "      <td>0</td>\n",
       "      <td>1</td>\n",
       "      <td>1</td>\n",
       "      <td>0</td>\n",
       "      <td>0</td>\n",
       "      <td>0</td>\n",
       "      <td>1</td>\n",
       "    </tr>\n",
       "    <tr>\n",
       "      <th>2</th>\n",
       "      <td>160205</td>\n",
       "      <td>30</td>\n",
       "      <td>1</td>\n",
       "      <td>0</td>\n",
       "      <td>0</td>\n",
       "      <td>1</td>\n",
       "      <td>0</td>\n",
       "      <td>0</td>\n",
       "      <td>1</td>\n",
       "    </tr>\n",
       "    <tr>\n",
       "      <th>3</th>\n",
       "      <td>193264</td>\n",
       "      <td>15</td>\n",
       "      <td>0</td>\n",
       "      <td>1</td>\n",
       "      <td>0</td>\n",
       "      <td>0</td>\n",
       "      <td>1</td>\n",
       "      <td>0</td>\n",
       "      <td>1</td>\n",
       "    </tr>\n",
       "    <tr>\n",
       "      <th>4</th>\n",
       "      <td>27533</td>\n",
       "      <td>28</td>\n",
       "      <td>1</td>\n",
       "      <td>0</td>\n",
       "      <td>0</td>\n",
       "      <td>1</td>\n",
       "      <td>0</td>\n",
       "      <td>1</td>\n",
       "      <td>0</td>\n",
       "    </tr>\n",
       "    <tr>\n",
       "      <th>...</th>\n",
       "      <td>...</td>\n",
       "      <td>...</td>\n",
       "      <td>...</td>\n",
       "      <td>...</td>\n",
       "      <td>...</td>\n",
       "      <td>...</td>\n",
       "      <td>...</td>\n",
       "      <td>...</td>\n",
       "      <td>...</td>\n",
       "    </tr>\n",
       "    <tr>\n",
       "      <th>595</th>\n",
       "      <td>39492</td>\n",
       "      <td>7</td>\n",
       "      <td>0</td>\n",
       "      <td>1</td>\n",
       "      <td>1</td>\n",
       "      <td>0</td>\n",
       "      <td>0</td>\n",
       "      <td>0</td>\n",
       "      <td>1</td>\n",
       "    </tr>\n",
       "    <tr>\n",
       "      <th>596</th>\n",
       "      <td>55369</td>\n",
       "      <td>2</td>\n",
       "      <td>0</td>\n",
       "      <td>1</td>\n",
       "      <td>1</td>\n",
       "      <td>0</td>\n",
       "      <td>0</td>\n",
       "      <td>0</td>\n",
       "      <td>1</td>\n",
       "    </tr>\n",
       "    <tr>\n",
       "      <th>597</th>\n",
       "      <td>154058</td>\n",
       "      <td>0</td>\n",
       "      <td>1</td>\n",
       "      <td>0</td>\n",
       "      <td>1</td>\n",
       "      <td>0</td>\n",
       "      <td>0</td>\n",
       "      <td>0</td>\n",
       "      <td>1</td>\n",
       "    </tr>\n",
       "    <tr>\n",
       "      <th>598</th>\n",
       "      <td>180083</td>\n",
       "      <td>17</td>\n",
       "      <td>0</td>\n",
       "      <td>1</td>\n",
       "      <td>0</td>\n",
       "      <td>1</td>\n",
       "      <td>0</td>\n",
       "      <td>1</td>\n",
       "      <td>0</td>\n",
       "    </tr>\n",
       "    <tr>\n",
       "      <th>599</th>\n",
       "      <td>158137</td>\n",
       "      <td>16</td>\n",
       "      <td>1</td>\n",
       "      <td>0</td>\n",
       "      <td>1</td>\n",
       "      <td>0</td>\n",
       "      <td>0</td>\n",
       "      <td>1</td>\n",
       "      <td>0</td>\n",
       "    </tr>\n",
       "  </tbody>\n",
       "</table>\n",
       "<p>600 rows × 9 columns</p>\n",
       "</div>"
      ],
      "text/plain": [
       "     City.Population  Work.Experience  Undergrad_NO  Undergrad_YES  \\\n",
       "0              50047               10             1              0   \n",
       "1             134075               18             0              1   \n",
       "2             160205               30             1              0   \n",
       "3             193264               15             0              1   \n",
       "4              27533               28             1              0   \n",
       "..               ...              ...           ...            ...   \n",
       "595            39492                7             0              1   \n",
       "596            55369                2             0              1   \n",
       "597           154058                0             1              0   \n",
       "598           180083               17             0              1   \n",
       "599           158137               16             1              0   \n",
       "\n",
       "     Marital.Status_Divorced  Marital.Status_Married  Marital.Status_Single  \\\n",
       "0                          0                       0                      1   \n",
       "1                          1                       0                      0   \n",
       "2                          0                       1                      0   \n",
       "3                          0                       0                      1   \n",
       "4                          0                       1                      0   \n",
       "..                       ...                     ...                    ...   \n",
       "595                        1                       0                      0   \n",
       "596                        1                       0                      0   \n",
       "597                        1                       0                      0   \n",
       "598                        0                       1                      0   \n",
       "599                        1                       0                      0   \n",
       "\n",
       "     Urban_NO  Urban_YES  \n",
       "0           0          1  \n",
       "1           0          1  \n",
       "2           0          1  \n",
       "3           0          1  \n",
       "4           1          0  \n",
       "..        ...        ...  \n",
       "595         0          1  \n",
       "596         0          1  \n",
       "597         0          1  \n",
       "598         1          0  \n",
       "599         1          0  \n",
       "\n",
       "[600 rows x 9 columns]"
      ]
     },
     "execution_count": 159,
     "metadata": {},
     "output_type": "execute_result"
    }
   ],
   "source": [
    "X"
   ]
  },
  {
   "cell_type": "code",
   "execution_count": 160,
   "id": "be69e12a",
   "metadata": {},
   "outputs": [
    {
     "data": {
      "text/plain": [
       "0      Good\n",
       "1      Good\n",
       "2      Good\n",
       "3      Good\n",
       "4      Good\n",
       "       ... \n",
       "595    Good\n",
       "596    Good\n",
       "597    Good\n",
       "598    Good\n",
       "599    Good\n",
       "Name: TaxInc, Length: 600, dtype: category\n",
       "Categories (2, object): ['Risky' < 'Good']"
      ]
     },
     "execution_count": 160,
     "metadata": {},
     "output_type": "execute_result"
    }
   ],
   "source": [
    "Y"
   ]
  },
  {
   "cell_type": "code",
   "execution_count": 162,
   "id": "78b92fc6",
   "metadata": {},
   "outputs": [
    {
     "data": {
      "text/html": [
       "<div>\n",
       "<style scoped>\n",
       "    .dataframe tbody tr th:only-of-type {\n",
       "        vertical-align: middle;\n",
       "    }\n",
       "\n",
       "    .dataframe tbody tr th {\n",
       "        vertical-align: top;\n",
       "    }\n",
       "\n",
       "    .dataframe thead th {\n",
       "        text-align: right;\n",
       "    }\n",
       "</style>\n",
       "<table border=\"1\" class=\"dataframe\">\n",
       "  <thead>\n",
       "    <tr style=\"text-align: right;\">\n",
       "      <th></th>\n",
       "      <th>TaxInc</th>\n",
       "    </tr>\n",
       "  </thead>\n",
       "  <tbody>\n",
       "    <tr>\n",
       "      <th>0</th>\n",
       "      <td>Good</td>\n",
       "    </tr>\n",
       "    <tr>\n",
       "      <th>1</th>\n",
       "      <td>Good</td>\n",
       "    </tr>\n",
       "    <tr>\n",
       "      <th>2</th>\n",
       "      <td>Good</td>\n",
       "    </tr>\n",
       "    <tr>\n",
       "      <th>3</th>\n",
       "      <td>Good</td>\n",
       "    </tr>\n",
       "    <tr>\n",
       "      <th>4</th>\n",
       "      <td>Good</td>\n",
       "    </tr>\n",
       "    <tr>\n",
       "      <th>...</th>\n",
       "      <td>...</td>\n",
       "    </tr>\n",
       "    <tr>\n",
       "      <th>595</th>\n",
       "      <td>Good</td>\n",
       "    </tr>\n",
       "    <tr>\n",
       "      <th>596</th>\n",
       "      <td>Good</td>\n",
       "    </tr>\n",
       "    <tr>\n",
       "      <th>597</th>\n",
       "      <td>Good</td>\n",
       "    </tr>\n",
       "    <tr>\n",
       "      <th>598</th>\n",
       "      <td>Good</td>\n",
       "    </tr>\n",
       "    <tr>\n",
       "      <th>599</th>\n",
       "      <td>Good</td>\n",
       "    </tr>\n",
       "  </tbody>\n",
       "</table>\n",
       "<p>600 rows × 1 columns</p>\n",
       "</div>"
      ],
      "text/plain": [
       "    TaxInc\n",
       "0     Good\n",
       "1     Good\n",
       "2     Good\n",
       "3     Good\n",
       "4     Good\n",
       "..     ...\n",
       "595   Good\n",
       "596   Good\n",
       "597   Good\n",
       "598   Good\n",
       "599   Good\n",
       "\n",
       "[600 rows x 1 columns]"
      ]
     },
     "execution_count": 162,
     "metadata": {},
     "output_type": "execute_result"
    }
   ],
   "source": [
    "Y1 = pd.DataFrame(Y)\n",
    "Y1"
   ]
  },
  {
   "cell_type": "code",
   "execution_count": 164,
   "id": "de3363f9",
   "metadata": {},
   "outputs": [
    {
     "name": "stderr",
     "output_type": "stream",
     "text": [
      "<ipython-input-164-1491c4d8d3cb>:1: DataConversionWarning: A column-vector y was passed when a 1d array was expected. Please change the shape of y to (n_samples,), for example using ravel().\n",
      "  rf.fit(X,Y1)\n"
     ]
    },
    {
     "data": {
      "text/plain": [
       "RandomForestClassifier(criterion='entropy', n_estimators=15, n_jobs=3,\n",
       "                       oob_score=True)"
      ]
     },
     "execution_count": 164,
     "metadata": {},
     "output_type": "execute_result"
    }
   ],
   "source": [
    "rf.fit(X,Y1) "
   ]
  },
  {
   "cell_type": "code",
   "execution_count": 167,
   "id": "4a7082c7",
   "metadata": {},
   "outputs": [
    {
     "data": {
      "text/plain": [
       "[DecisionTreeClassifier(criterion='entropy', max_features='auto',\n",
       "                        random_state=159731778),\n",
       " DecisionTreeClassifier(criterion='entropy', max_features='auto',\n",
       "                        random_state=1516981352),\n",
       " DecisionTreeClassifier(criterion='entropy', max_features='auto',\n",
       "                        random_state=44720148),\n",
       " DecisionTreeClassifier(criterion='entropy', max_features='auto',\n",
       "                        random_state=1635494583),\n",
       " DecisionTreeClassifier(criterion='entropy', max_features='auto',\n",
       "                        random_state=870271657),\n",
       " DecisionTreeClassifier(criterion='entropy', max_features='auto',\n",
       "                        random_state=1260087422),\n",
       " DecisionTreeClassifier(criterion='entropy', max_features='auto',\n",
       "                        random_state=1540602845),\n",
       " DecisionTreeClassifier(criterion='entropy', max_features='auto',\n",
       "                        random_state=922730639),\n",
       " DecisionTreeClassifier(criterion='entropy', max_features='auto',\n",
       "                        random_state=2130707821),\n",
       " DecisionTreeClassifier(criterion='entropy', max_features='auto',\n",
       "                        random_state=1710214342),\n",
       " DecisionTreeClassifier(criterion='entropy', max_features='auto',\n",
       "                        random_state=2055734635),\n",
       " DecisionTreeClassifier(criterion='entropy', max_features='auto',\n",
       "                        random_state=163156357),\n",
       " DecisionTreeClassifier(criterion='entropy', max_features='auto',\n",
       "                        random_state=1286128575),\n",
       " DecisionTreeClassifier(criterion='entropy', max_features='auto',\n",
       "                        random_state=1181840732),\n",
       " DecisionTreeClassifier(criterion='entropy', max_features='auto',\n",
       "                        random_state=706504585)]"
      ]
     },
     "execution_count": 167,
     "metadata": {},
     "output_type": "execute_result"
    }
   ],
   "source": [
    "rf.estimators_ "
   ]
  },
  {
   "cell_type": "code",
   "execution_count": 168,
   "id": "88136a5e",
   "metadata": {},
   "outputs": [
    {
     "data": {
      "text/plain": [
       "array(['Good', 'Risky'], dtype=object)"
      ]
     },
     "execution_count": 168,
     "metadata": {},
     "output_type": "execute_result"
    }
   ],
   "source": [
    "rf.classes_ "
   ]
  },
  {
   "cell_type": "code",
   "execution_count": 169,
   "id": "e01b981b",
   "metadata": {},
   "outputs": [
    {
     "data": {
      "text/plain": [
       "2"
      ]
     },
     "execution_count": 169,
     "metadata": {},
     "output_type": "execute_result"
    }
   ],
   "source": [
    "rf.n_classes_  "
   ]
  },
  {
   "cell_type": "code",
   "execution_count": 170,
   "id": "eef59334",
   "metadata": {},
   "outputs": [
    {
     "data": {
      "text/plain": [
       "9"
      ]
     },
     "execution_count": 170,
     "metadata": {},
     "output_type": "execute_result"
    }
   ],
   "source": [
    "rf.n_features_  "
   ]
  },
  {
   "cell_type": "code",
   "execution_count": 171,
   "id": "742bdc39",
   "metadata": {},
   "outputs": [
    {
     "data": {
      "text/plain": [
       "1"
      ]
     },
     "execution_count": 171,
     "metadata": {},
     "output_type": "execute_result"
    }
   ],
   "source": [
    "rf.n_outputs_ "
   ]
  },
  {
   "cell_type": "code",
   "execution_count": 173,
   "id": "aa41108b",
   "metadata": {},
   "outputs": [
    {
     "data": {
      "text/plain": [
       "0.7333333333333333"
      ]
     },
     "execution_count": 173,
     "metadata": {},
     "output_type": "execute_result"
    }
   ],
   "source": [
    "rf.oob_score_  "
   ]
  },
  {
   "cell_type": "code",
   "execution_count": 179,
   "id": "08648b9b",
   "metadata": {},
   "outputs": [
    {
     "data": {
      "text/plain": [
       "array(['Good', 'Good', 'Good', 'Good', 'Good', 'Good', 'Good', 'Good',\n",
       "       'Good', 'Good', 'Risky', 'Good', 'Risky', 'Good', 'Good', 'Good',\n",
       "       'Risky', 'Good', 'Good', 'Risky', 'Good', 'Risky', 'Good', 'Good',\n",
       "       'Good', 'Good', 'Good', 'Good', 'Good', 'Good', 'Good', 'Good',\n",
       "       'Good', 'Good', 'Risky', 'Good', 'Risky', 'Good', 'Risky', 'Good',\n",
       "       'Good', 'Good', 'Good', 'Good', 'Good', 'Good', 'Good', 'Good',\n",
       "       'Risky', 'Good', 'Good', 'Good', 'Good', 'Risky', 'Good', 'Risky',\n",
       "       'Good', 'Good', 'Risky', 'Good', 'Good', 'Risky', 'Good', 'Good',\n",
       "       'Good', 'Good', 'Good', 'Good', 'Risky', 'Good', 'Good', 'Good',\n",
       "       'Good', 'Good', 'Good', 'Good', 'Good', 'Good', 'Good', 'Risky',\n",
       "       'Good', 'Good', 'Good', 'Good', 'Good', 'Risky', 'Good', 'Risky',\n",
       "       'Good', 'Risky', 'Good', 'Good', 'Good', 'Risky', 'Good', 'Good',\n",
       "       'Risky', 'Good', 'Risky', 'Good', 'Good', 'Good', 'Good', 'Good',\n",
       "       'Good', 'Good', 'Good', 'Good', 'Good', 'Good', 'Good', 'Good',\n",
       "       'Good', 'Good', 'Risky', 'Good', 'Good', 'Good', 'Risky', 'Good',\n",
       "       'Good', 'Risky', 'Risky', 'Risky', 'Good', 'Good', 'Risky', 'Good',\n",
       "       'Good', 'Good', 'Good', 'Good', 'Good', 'Good', 'Good', 'Risky',\n",
       "       'Good', 'Risky', 'Good', 'Good', 'Risky', 'Good', 'Good', 'Good',\n",
       "       'Good', 'Good', 'Good', 'Good', 'Good', 'Good', 'Good', 'Good',\n",
       "       'Risky', 'Risky', 'Risky', 'Good', 'Good', 'Good', 'Risky', 'Good',\n",
       "       'Good', 'Good', 'Good', 'Risky', 'Good', 'Good', 'Good', 'Good',\n",
       "       'Risky', 'Good', 'Good', 'Good', 'Risky', 'Good', 'Good', 'Good',\n",
       "       'Good', 'Good', 'Good', 'Risky', 'Good', 'Risky', 'Risky', 'Good',\n",
       "       'Good', 'Good', 'Good', 'Good', 'Good', 'Good', 'Good', 'Good',\n",
       "       'Good', 'Good', 'Risky', 'Good', 'Risky', 'Good', 'Good', 'Risky',\n",
       "       'Good', 'Good', 'Good', 'Good', 'Good', 'Risky', 'Good', 'Risky',\n",
       "       'Good', 'Good', 'Good', 'Good', 'Good', 'Good', 'Good', 'Good',\n",
       "       'Good', 'Good', 'Good', 'Risky', 'Good', 'Good', 'Good', 'Good',\n",
       "       'Good', 'Good', 'Good', 'Good', 'Risky', 'Good', 'Risky', 'Good',\n",
       "       'Risky', 'Risky', 'Good', 'Good', 'Good', 'Risky', 'Good', 'Good',\n",
       "       'Good', 'Risky', 'Good', 'Good', 'Good', 'Good', 'Good', 'Risky',\n",
       "       'Risky', 'Good', 'Good', 'Good', 'Good', 'Good', 'Good', 'Good',\n",
       "       'Good', 'Good', 'Good', 'Risky', 'Good', 'Good', 'Good', 'Good',\n",
       "       'Good', 'Risky', 'Good', 'Risky', 'Good', 'Good', 'Good', 'Good',\n",
       "       'Good', 'Good', 'Good', 'Good', 'Good', 'Good', 'Risky', 'Good',\n",
       "       'Good', 'Good', 'Good', 'Good', 'Risky', 'Good', 'Good', 'Good',\n",
       "       'Risky', 'Good', 'Good', 'Good', 'Risky', 'Good', 'Good', 'Good',\n",
       "       'Good', 'Good', 'Good', 'Good', 'Good', 'Risky', 'Good', 'Good',\n",
       "       'Good', 'Good', 'Good', 'Good', 'Good', 'Good', 'Good', 'Good',\n",
       "       'Good', 'Good', 'Good', 'Risky', 'Good', 'Good', 'Good', 'Good',\n",
       "       'Good', 'Good', 'Good', 'Good', 'Good', 'Good', 'Risky', 'Risky',\n",
       "       'Good', 'Risky', 'Good', 'Risky', 'Good', 'Risky', 'Good', 'Good',\n",
       "       'Good', 'Risky', 'Risky', 'Risky', 'Good', 'Good', 'Good', 'Good',\n",
       "       'Good', 'Good', 'Risky', 'Risky', 'Good', 'Risky', 'Good', 'Good',\n",
       "       'Risky', 'Good', 'Risky', 'Good', 'Risky', 'Risky', 'Good', 'Good',\n",
       "       'Good', 'Good', 'Risky', 'Risky', 'Good', 'Good', 'Good', 'Risky',\n",
       "       'Good', 'Good', 'Good', 'Good', 'Good', 'Good', 'Good', 'Good',\n",
       "       'Good', 'Good', 'Good', 'Risky', 'Good', 'Good', 'Good', 'Good',\n",
       "       'Good', 'Good', 'Good', 'Good', 'Good', 'Good', 'Good', 'Good',\n",
       "       'Risky', 'Good', 'Good', 'Good', 'Good', 'Good', 'Risky', 'Good',\n",
       "       'Good', 'Good', 'Good', 'Good', 'Good', 'Good', 'Good', 'Good',\n",
       "       'Good', 'Good', 'Good', 'Good', 'Good', 'Good', 'Good', 'Good',\n",
       "       'Good', 'Good', 'Good', 'Good', 'Good', 'Good', 'Good', 'Good',\n",
       "       'Good', 'Good', 'Good', 'Good', 'Risky', 'Good', 'Good', 'Good',\n",
       "       'Good', 'Risky', 'Risky', 'Good', 'Good', 'Risky', 'Risky',\n",
       "       'Risky', 'Good', 'Good', 'Good', 'Risky', 'Risky', 'Good', 'Risky',\n",
       "       'Good', 'Good', 'Good', 'Good', 'Good', 'Good', 'Good', 'Good',\n",
       "       'Good', 'Good', 'Risky', 'Risky', 'Risky', 'Good', 'Good', 'Risky',\n",
       "       'Good', 'Good', 'Risky', 'Good', 'Good', 'Good', 'Good', 'Good',\n",
       "       'Risky', 'Good', 'Good', 'Good', 'Good', 'Good', 'Good', 'Good',\n",
       "       'Good', 'Good', 'Good', 'Good', 'Risky', 'Good', 'Good', 'Good',\n",
       "       'Good', 'Good', 'Good', 'Good', 'Risky', 'Good', 'Risky', 'Good',\n",
       "       'Good', 'Good', 'Good', 'Good', 'Good', 'Good', 'Good', 'Good',\n",
       "       'Good', 'Good', 'Good', 'Risky', 'Good', 'Good', 'Risky', 'Good',\n",
       "       'Good', 'Good', 'Good', 'Good', 'Good', 'Good', 'Risky', 'Good',\n",
       "       'Good', 'Good', 'Good', 'Good', 'Good', 'Risky', 'Good', 'Risky',\n",
       "       'Good', 'Good', 'Good', 'Good', 'Good', 'Good', 'Risky', 'Good',\n",
       "       'Good', 'Good', 'Good', 'Good', 'Good', 'Risky', 'Risky', 'Good',\n",
       "       'Good', 'Risky', 'Good', 'Good', 'Good', 'Good', 'Good', 'Good',\n",
       "       'Good', 'Good', 'Good', 'Good', 'Good', 'Good', 'Risky', 'Good',\n",
       "       'Good', 'Good', 'Good', 'Good', 'Good', 'Good', 'Good', 'Good',\n",
       "       'Risky', 'Good', 'Good', 'Good', 'Good', 'Good', 'Good', 'Good',\n",
       "       'Good', 'Good', 'Good', 'Good', 'Good', 'Good', 'Good', 'Good',\n",
       "       'Good', 'Good', 'Good', 'Good', 'Good', 'Good', 'Good', 'Good',\n",
       "       'Risky', 'Good', 'Good', 'Good', 'Good', 'Good', 'Good', 'Good',\n",
       "       'Good'], dtype=object)"
      ]
     },
     "execution_count": 179,
     "metadata": {},
     "output_type": "execute_result"
    }
   ],
   "source": [
    "rf.predict(X)"
   ]
  },
  {
   "cell_type": "code",
   "execution_count": 181,
   "id": "c3cf0c4e",
   "metadata": {},
   "outputs": [],
   "source": [
    "Fraud_final['rf_pred'] = rf.predict(X)"
   ]
  },
  {
   "cell_type": "code",
   "execution_count": 185,
   "id": "78d864e6",
   "metadata": {},
   "outputs": [],
   "source": [
    "cols = ['rf_pred','TaxInc']"
   ]
  },
  {
   "cell_type": "code",
   "execution_count": 188,
   "id": "dbe760e1",
   "metadata": {},
   "outputs": [
    {
     "data": {
      "text/html": [
       "<div>\n",
       "<style scoped>\n",
       "    .dataframe tbody tr th:only-of-type {\n",
       "        vertical-align: middle;\n",
       "    }\n",
       "\n",
       "    .dataframe tbody tr th {\n",
       "        vertical-align: top;\n",
       "    }\n",
       "\n",
       "    .dataframe thead th {\n",
       "        text-align: right;\n",
       "    }\n",
       "</style>\n",
       "<table border=\"1\" class=\"dataframe\">\n",
       "  <thead>\n",
       "    <tr style=\"text-align: right;\">\n",
       "      <th></th>\n",
       "      <th>rf_pred</th>\n",
       "      <th>TaxInc</th>\n",
       "    </tr>\n",
       "  </thead>\n",
       "  <tbody>\n",
       "    <tr>\n",
       "      <th>0</th>\n",
       "      <td>Good</td>\n",
       "      <td>Good</td>\n",
       "    </tr>\n",
       "    <tr>\n",
       "      <th>1</th>\n",
       "      <td>Good</td>\n",
       "      <td>Good</td>\n",
       "    </tr>\n",
       "    <tr>\n",
       "      <th>2</th>\n",
       "      <td>Good</td>\n",
       "      <td>Good</td>\n",
       "    </tr>\n",
       "    <tr>\n",
       "      <th>3</th>\n",
       "      <td>Good</td>\n",
       "      <td>Good</td>\n",
       "    </tr>\n",
       "    <tr>\n",
       "      <th>4</th>\n",
       "      <td>Good</td>\n",
       "      <td>Good</td>\n",
       "    </tr>\n",
       "  </tbody>\n",
       "</table>\n",
       "</div>"
      ],
      "text/plain": [
       "  rf_pred TaxInc\n",
       "0    Good   Good\n",
       "1    Good   Good\n",
       "2    Good   Good\n",
       "3    Good   Good\n",
       "4    Good   Good"
      ]
     },
     "execution_count": 188,
     "metadata": {},
     "output_type": "execute_result"
    }
   ],
   "source": [
    "Fraud_final[cols].head()"
   ]
  },
  {
   "cell_type": "code",
   "execution_count": 192,
   "id": "1ed24832",
   "metadata": {},
   "outputs": [
    {
     "data": {
      "text/plain": [
       "0      Good\n",
       "1      Good\n",
       "2      Good\n",
       "3      Good\n",
       "4      Good\n",
       "       ... \n",
       "595    Good\n",
       "596    Good\n",
       "597    Good\n",
       "598    Good\n",
       "599    Good\n",
       "Name: TaxInc, Length: 600, dtype: category\n",
       "Categories (2, object): ['Risky' < 'Good']"
      ]
     },
     "execution_count": 192,
     "metadata": {},
     "output_type": "execute_result"
    }
   ],
   "source": [
    "Fraud_final[\"TaxInc\"]"
   ]
  },
  {
   "cell_type": "code",
   "execution_count": 193,
   "id": "32406a80",
   "metadata": {},
   "outputs": [],
   "source": [
    "from sklearn.metrics import confusion_matrix"
   ]
  },
  {
   "cell_type": "code",
   "execution_count": 197,
   "id": "b9fdea39",
   "metadata": {},
   "outputs": [
    {
     "data": {
      "text/plain": [
       "array([[476,   0],\n",
       "       [ 10, 114]], dtype=int64)"
      ]
     },
     "execution_count": 197,
     "metadata": {},
     "output_type": "execute_result"
    }
   ],
   "source": [
    "confusion_matrix(Fraud_final['TaxInc'],Fraud_final['rf_pred'])"
   ]
  },
  {
   "cell_type": "code",
   "execution_count": 202,
   "id": "7b9d8b35",
   "metadata": {},
   "outputs": [
    {
     "data": {
      "text/html": [
       "<div>\n",
       "<style scoped>\n",
       "    .dataframe tbody tr th:only-of-type {\n",
       "        vertical-align: middle;\n",
       "    }\n",
       "\n",
       "    .dataframe tbody tr th {\n",
       "        vertical-align: top;\n",
       "    }\n",
       "\n",
       "    .dataframe thead th {\n",
       "        text-align: right;\n",
       "    }\n",
       "</style>\n",
       "<table border=\"1\" class=\"dataframe\">\n",
       "  <thead>\n",
       "    <tr style=\"text-align: right;\">\n",
       "      <th>rf_pred</th>\n",
       "      <th>Good</th>\n",
       "      <th>Risky</th>\n",
       "    </tr>\n",
       "    <tr>\n",
       "      <th>TaxInc</th>\n",
       "      <th></th>\n",
       "      <th></th>\n",
       "    </tr>\n",
       "  </thead>\n",
       "  <tbody>\n",
       "    <tr>\n",
       "      <th>Risky</th>\n",
       "      <td>10</td>\n",
       "      <td>114</td>\n",
       "    </tr>\n",
       "    <tr>\n",
       "      <th>Good</th>\n",
       "      <td>476</td>\n",
       "      <td>0</td>\n",
       "    </tr>\n",
       "  </tbody>\n",
       "</table>\n",
       "</div>"
      ],
      "text/plain": [
       "rf_pred  Good  Risky\n",
       "TaxInc              \n",
       "Risky      10    114\n",
       "Good      476      0"
      ]
     },
     "execution_count": 202,
     "metadata": {},
     "output_type": "execute_result"
    }
   ],
   "source": [
    "pd.crosstab(Fraud_final['TaxInc'],Fraud_final['rf_pred'])"
   ]
  },
  {
   "cell_type": "code",
   "execution_count": 206,
   "id": "1aa1e3d9",
   "metadata": {},
   "outputs": [
    {
     "name": "stdout",
     "output_type": "stream",
     "text": [
      "Accuracy 98.5\n"
     ]
    }
   ],
   "source": [
    "print(\"Accuracy\",(476+115)/(476+115+9+0)*100)"
   ]
  },
  {
   "cell_type": "code",
   "execution_count": 210,
   "id": "7e60ee77",
   "metadata": {},
   "outputs": [
    {
     "data": {
      "text/plain": [
       "0      Good\n",
       "1      Good\n",
       "2      Good\n",
       "3      Good\n",
       "4      Good\n",
       "       ... \n",
       "595    Good\n",
       "596    Good\n",
       "597    Good\n",
       "598    Good\n",
       "599    Good\n",
       "Name: rf_pred, Length: 600, dtype: object"
      ]
     },
     "execution_count": 210,
     "metadata": {},
     "output_type": "execute_result"
    }
   ],
   "source": [
    "Fraud_final[\"rf_pred\"]"
   ]
  },
  {
   "cell_type": "code",
   "execution_count": null,
   "id": "89fb6706",
   "metadata": {},
   "outputs": [],
   "source": []
  },
  {
   "cell_type": "code",
   "execution_count": null,
   "id": "3f011e8f",
   "metadata": {},
   "outputs": [],
   "source": []
  },
  {
   "cell_type": "code",
   "execution_count": null,
   "id": "d8cdfcf2",
   "metadata": {},
   "outputs": [],
   "source": []
  },
  {
   "cell_type": "code",
   "execution_count": null,
   "id": "4911a2fc",
   "metadata": {},
   "outputs": [],
   "source": []
  },
  {
   "cell_type": "code",
   "execution_count": null,
   "id": "46541093",
   "metadata": {},
   "outputs": [],
   "source": []
  }
 ],
 "metadata": {
  "kernelspec": {
   "display_name": "Python 3",
   "language": "python",
   "name": "python3"
  },
  "language_info": {
   "codemirror_mode": {
    "name": "ipython",
    "version": 3
   },
   "file_extension": ".py",
   "mimetype": "text/x-python",
   "name": "python",
   "nbconvert_exporter": "python",
   "pygments_lexer": "ipython3",
   "version": "3.8.8"
  }
 },
 "nbformat": 4,
 "nbformat_minor": 5
}
